{
  "cells": [
    {
      "cell_type": "markdown",
      "metadata": {
        "id": "view-in-github",
        "colab_type": "text"
      },
      "source": [
        "<a href=\"https://colab.research.google.com/github/RenatodaCostaSantos/Data_analysis_projects/blob/main/Data_scraping_YT_project.ipynb\" target=\"_parent\"><img src=\"https://colab.research.google.com/assets/colab-badge.svg\" alt=\"Open In Colab\"/></a>"
      ]
    },
    {
      "cell_type": "markdown",
      "metadata": {
        "id": "gmrtGVWXSFcq"
      },
      "source": [
        "# Connecting to the YouTube API\n",
        "\n",
        "First we need to create a connection with the YouTube API. For that we need an api_key that can be obtained by using Google dashboard.\n",
        "\n"
      ],
      "id": "gmrtGVWXSFcq"
    },
    {
      "cell_type": "code",
      "execution_count": null,
      "metadata": {
        "id": "Na69aVD9SFcx"
      },
      "outputs": [],
      "source": [
        "from googleapiclient.discovery import build\n",
        "import pandas as pd\n",
        "import seaborn as sns"
      ],
      "id": "Na69aVD9SFcx"
    },
    {
      "cell_type": "code",
      "execution_count": null,
      "metadata": {
        "id": "hsMVlfhcSFcz"
      },
      "outputs": [],
      "source": [
        "#Get an YouTube API key we generated on API dashboard from google/gmail\n",
        "#See https://www.youtube.com/watch?v=SwSbnmqk3zY&t=621s for details\n",
        "api_key = API_key # The key is stored in my google drive\n",
        "\n",
        "#Build our YouTube API search\n",
        "youtube = build(\"youtube\",'v3',developerKey = api_key)\n"
      ],
      "id": "hsMVlfhcSFcz"
    },
    {
      "cell_type": "markdown",
      "metadata": {
        "id": "AquaG_mFSFc2"
      },
      "source": [
        "# Building a pipeline to scrape the data\n",
        "\n",
        "The search request on the youtube API does not provide the statistics for the videos it returns, so we will have to do some workarounds to search and get the information we are interested in.\n",
        "<br/><br/>\n",
        "\n",
        "We start by getting the videos snippet provided by the search method of the API, which contains the video id information. With that we can use the video list method to for each video in order to get the statitistics we are interested in.\n",
        "<br/><br/>\n"
      ],
      "id": "AquaG_mFSFc2"
    },
    {
      "cell_type": "markdown",
      "metadata": {
        "id": "W9_8uLwzSFc2"
      },
      "source": [
        "## YouTube search\n",
        "\n",
        "We start by building a function to search for youtube videos and get their ids. Notice that the keywords argument is not a string but a list."
      ],
      "id": "W9_8uLwzSFc2"
    },
    {
      "cell_type": "code",
      "execution_count": null,
      "metadata": {
        "id": "dvtFeP2USFc3"
      },
      "outputs": [],
      "source": [
        "def videos_id(youtube,keywords):\n",
        "    '''\n",
        "    Creates a connection with the YouTube API and search for videos on physics given \n",
        "        words in the keywords list.\n",
        "        \n",
        "    Args:\n",
        "        youtube (object/class): Build a Resource from the API description.\n",
        "        \n",
        "        keywords (list): A list containing a keyword to search for, \n",
        "            topic, subtopic, level of difficulty associated to the keyword and the csv filename.\n",
        "            \n",
        "    Returns:\n",
        "        video_ids (list): list containing the ids of the videos, the topic and subtopic associated to\n",
        "            it.\n",
        "    '''\n",
        "    \n",
        "    # Make a request from our youtube API search (stemplate on https://developers.google.com/youtube/v3/docs/search/list?apix=true)\n",
        "    max_results = '50'\n",
        "    video_ids = []\n",
        "        \n",
        "    # Given the API cost for collecting videos in a search, we will not use a for loop here.\n",
        "    # Instead we will search word by word in our keywords list.\n",
        "    \n",
        "    request = youtube.search().list(\n",
        "                #See https://developers.google.com/youtube/v3/getting-started#partial for details on part variable\n",
        "                part = 'snippet',\n",
        "                maxResults = max_results,\n",
        "                q = keywords[1],\n",
        "                type = 'video',\n",
        "                # Search for portuguese videos since we are only interested on those\n",
        "                relevanceLanguage = 'pt',\n",
        "                # Only include videos that are between four and 20 minutes long (inclusive).\n",
        "                videoDuration = 'medium'\n",
        "                )\n",
        "    # A pagination is required to get only the first 500 videos of a given keyword\n",
        "    page = 0\n",
        "    while page < 10:\n",
        "        response = request.execute()\n",
        "        \n",
        "        for m in range(0, int(max_results)):\n",
        "            video_id = response['items'][m]['id']['videoId']\n",
        "            video_ids.append([video_id,keywords[0],keywords[1], keywords[2]])\n",
        "            \n",
        "        request = youtube.search().list_next(request, response)\n",
        "        \n",
        "        page += 1\n",
        "\n",
        "    return video_ids\n",
        "\n",
        "    "
      ],
      "id": "dvtFeP2USFc3"
    },
    {
      "cell_type": "markdown",
      "metadata": {
        "id": "7mjcuS4xSFc7"
      },
      "source": [
        "Before moving on, the videos_id function returns a list of lists. It will be useful to transform this list as a dictionary in order to convert it to a dataframe later on. Let's create a function for that."
      ],
      "id": "7mjcuS4xSFc7"
    },
    {
      "cell_type": "code",
      "execution_count": null,
      "metadata": {
        "id": "g_Iyfk6tSFc8"
      },
      "outputs": [],
      "source": [
        "def list_to_dict(array):\n",
        "    '''\n",
        "    Transform a list into a dictionary.\n",
        "    \n",
        "    Args:\n",
        "        array (list): A list  of lists.\n",
        "        \n",
        "    Returns:\n",
        "        list (list): A list where all entrances are dictionaries.\n",
        "    '''\n",
        "    all_data = []\n",
        "    \n",
        "    for i in range(len(array)):\n",
        "        data = dict(\n",
        "                video_id = array[i][0],\n",
        "                topic = array[i][1],\n",
        "                subtopic= array[i][2],\n",
        "                dificulty = array[i][3]\n",
        "                )\n",
        "        all_data.append(data)\n",
        "    return all_data\n",
        "    \n",
        "    "
      ],
      "id": "g_Iyfk6tSFc8"
    },
    {
      "cell_type": "markdown",
      "metadata": {
        "id": "MzWcnXXCSFc9"
      },
      "source": [
        "We only need the video_id information in order to obtain the statistics for the videos later on. Next, we build a function to retrive that only that information from videos_id function outcome:"
      ],
      "id": "MzWcnXXCSFc9"
    },
    {
      "cell_type": "code",
      "execution_count": null,
      "metadata": {
        "id": "sIsLK3NKSFc9"
      },
      "outputs": [],
      "source": [
        "def videos_id_list(array):\n",
        "    '''\n",
        "    Takes a list of list and generates a list containing only the first term of each list.\n",
        "    \n",
        "    Args:\n",
        "        list_of_lists (list): List of lists to be splited.\n",
        "        \n",
        "    Returns:\n",
        "        list (list): a list containing only the first item (video_id) of each list.\n",
        "    '''\n",
        "\n",
        "    videos_id_list = []\n",
        "    for i in range(len(array)):\n",
        "        videos_id_list.append(array[i][0])\n",
        "        \n",
        "    return videos_id_list"
      ],
      "id": "sIsLK3NKSFc9"
    },
    {
      "cell_type": "markdown",
      "metadata": {
        "id": "8Oq57RO_SFc-"
      },
      "source": [
        "### Comment\n",
        "\n",
        "The three functions define steps 1, 2 and 3 of our pipeline:\n",
        "\n",
        "1 - Search for videos on youtube.\n",
        "\n",
        "2 - Create a dataframe with the videos_id outcome.\n",
        "\n",
        "3 - Store the video id information, given by the first item of the list returned by the videos_id function, in a variable.\n"
      ],
      "id": "8Oq57RO_SFc-"
    },
    {
      "cell_type": "markdown",
      "metadata": {
        "id": "dpPg7tVVSFc-"
      },
      "source": [
        "## Getting videos statistics\n",
        "\n",
        "The next step is to get relevant information for all scraped videos."
      ],
      "id": "dpPg7tVVSFc-"
    },
    {
      "cell_type": "code",
      "execution_count": null,
      "metadata": {
        "id": "w_F2rU29SFc_"
      },
      "outputs": [],
      "source": [
        "def videos_info(youtube,videos_id_list):\n",
        "    '''\n",
        "    Generate a list containing all the videos scrapped from the youtube API request\n",
        "        stored in the data dictionary.\n",
        "    Args:\n",
        "        youtube (object/class): Build a Resource from the API description.\n",
        "        \n",
        "        videos_id_list (string): List containg all the video ids and keywords scrapped from the API \n",
        "            using the videos_id function.  \n",
        "    \n",
        "    Returns:\n",
        "        list: each item of the list is a dictionary containing the relevant information for \n",
        "            each video.\n",
        "    '''\n",
        "    # We will append all videos in the list below\n",
        "    all_videos = []\n",
        "    \n",
        "    for m in range(len(videos_id_list)):\n",
        "        # Request to use the API and get the information we want\n",
        "        request = youtube.videos().list(\n",
        "                    part = 'snippet,contentDetails,statistics',\n",
        "                    id = videos_id_list[m]\n",
        "\n",
        "                    )\n",
        "        response = request.execute()\n",
        "        #print(response)\n",
        "\n",
        "        # Select the relevant information from each video that will be useful for our analysis later on\n",
        "        for i in range(len(response['items'])):\n",
        "\n",
        "            # Some videos do not contain the 'tags' information so we add the if statement\n",
        "            if 'tags' in  response['items'][i]['snippet'] and 'likeCount' in response['items'][i]['statistics']:\n",
        "\n",
        "                data = dict(\n",
        "                        video_id = videos_id_list[m],\n",
        "                        title = response['items'][i]['snippet']['title'],\n",
        "                        description = response['items'][i]['snippet']['description'],\n",
        "                        tags = response['items'][i]['snippet']['tags'],\n",
        "                        channel_id = response['items'][i]['snippet']['channelId'],\n",
        "                        duration = response['items'][i]['contentDetails']['duration'],\n",
        "                        view_count = response['items'][i]['statistics']['viewCount'],\n",
        "                        like_count = response['items'][i]['statistics']['likeCount'],\n",
        "                       # comment_count = response['items'][i]['statistics']['commentCount']\n",
        "                           )\n",
        "            elif 'tags' not in  response['items'][i]['snippet'] and 'likeCount' in response['items'][i]['statistics']:\n",
        "                data = dict(\n",
        "                        video_id = videos_id_list[m],\n",
        "                        title = response['items'][i]['snippet']['title'],\n",
        "                        description = response['items'][i]['snippet']['description'],\n",
        "\n",
        "                        duration = response['items'][i]['contentDetails']['duration'],\n",
        "                        view_count = response['items'][i]['statistics']['viewCount'],\n",
        "                        like_count = response['items'][i]['statistics']['likeCount'],\n",
        "                        #comment_count = response['items'][i]['statistics']['commentCount']    \n",
        "                   )\n",
        "            elif 'tags' in  response['items'][i]['snippet'] and 'likeCount' not in response['items'][i]['statistics']:\n",
        "                data = dict(\n",
        "                        video_id = videos_id_list[m],\n",
        "                        title = response['items'][i]['snippet']['title'],\n",
        "                        description = response['items'][i]['snippet']['description'],\n",
        "                        tags = response['items'][i]['snippet']['tags'],\n",
        "                        duration = response['items'][i]['contentDetails']['duration'],\n",
        "                        view_count = response['items'][i]['statistics']['viewCount'],\n",
        "\n",
        "                        #comment_count = response['items'][i]['statistics']['commentCount']\n",
        "                           )\n",
        "        \n",
        "        all_videos.append(data)\n",
        "    \n",
        "    return all_videos"
      ],
      "id": "w_F2rU29SFc_"
    },
    {
      "cell_type": "markdown",
      "metadata": {
        "id": "4BtUWE-BSFdF"
      },
      "source": [
        "## Workflow \n",
        "\n",
        "The functions above finally allow us to define a pipeline:\n",
        "\n",
        "1 - Get the videos id using the videos_id function,\n",
        "\n",
        "2 - Generate a dataframe containing the videos_id, topic, subtopic and level of difficulty,\n",
        "\n",
        "3 - Get a list containing only the video_id information in order to obtain their statistics,\n",
        "\n",
        "4 - Create a dictionary containing all scraped info,\n",
        "\n",
        "5 - Transform the dictionary into a dataframe,\n",
        "\n",
        "6 - Join the two dataframes,\n",
        "\n",
        "7 - Clean the extra video_id column,\n",
        "\n",
        "8 - Generate a csv file.\n",
        "\n",
        "Let's build a function to execute it:"
      ],
      "id": "4BtUWE-BSFdF"
    },
    {
      "cell_type": "code",
      "execution_count": null,
      "metadata": {
        "id": "t64oee2xSFdL"
      },
      "outputs": [],
      "source": [
        "def scrape_n_save(youtube,kw_filename):\n",
        "    '''\n",
        "    Scrape videos using youtube API and saves the dataframes into a csv file.\n",
        "    \n",
        "    Args:\n",
        "        youtube (object/class): Build a Resource from the API description.\n",
        "        \n",
        "        kw_filename (list): A list containing a keyword to search for, \n",
        "            topic, subtopic, level of difficulty associated to the keyword and the csv filename.\n",
        "    \n",
        "    Returns:\n",
        "        csv file (object): A csv file containing the scraped data.\n",
        "    '''   \n",
        "    # Generate a list containing the ids of the videos, topic, subtopic and difficulty \n",
        "    #associated to it.\n",
        "    video_id = videos_id(youtube,kw_filename)\n",
        "    \n",
        "    # Dataframe containing the information returned by the function videos_id\n",
        "    videos_id_df = pd.DataFrame(list_to_dict(video_id))\n",
        "    \n",
        "    # Retrieve only a list of videos id given a keyword.\n",
        "    videos_id_kw = videos_id_list(video_id)\n",
        "    \n",
        "    # Dictionary containing all the scraped information given a keyword\n",
        "    videos_info_kw = videos_info(youtube,videos_id_kw)\n",
        "    \n",
        "    # Transform the dictionary into a dataframe\n",
        "    kw_df = pd.DataFrame(videos_info_kw)\n",
        "    \n",
        "    # Joining videos_id_df and kw_df for the a given keyword\n",
        "    df = pd.merge(left = kw_df, right = videos_id_df, left_index = True, right_index = True)\n",
        "    \n",
        "    # Dropping the extra video_id column and renaming the one left after the merging process\n",
        "    df = df.drop(['video_id_y'], axis = 1).rename(columns = {'video_id_x': 'video_id'})\n",
        "    \n",
        "    # Save the final dataframe for a given keyword in a csv file\n",
        "    df.to_csv(kw_filename[3])   \n"
      ],
      "id": "t64oee2xSFdL"
    },
    {
      "cell_type": "markdown",
      "metadata": {
        "id": "E2qfAjMJSFdL"
      },
      "source": [
        "# Generating csv files\n",
        "\n",
        "It is finally time to start generating the csv files we are interested in! We will do it for each keyword given the amount of data and limitations imposed by the youtube API."
      ],
      "id": "E2qfAjMJSFdL"
    },
    {
      "cell_type": "markdown",
      "metadata": {
        "id": "DVhU2fa6SFdM"
      },
      "source": [
        "# Keyword 1"
      ],
      "id": "DVhU2fa6SFdM"
    },
    {
      "cell_type": "code",
      "execution_count": null,
      "metadata": {
        "id": "wIMzl6NUSFdM"
      },
      "outputs": [],
      "source": [
        "#kw_1 = ['Cinematica','Movimento e Repouso fisica','Easy','movimento_e_repouso.csv']\n",
        "\n",
        "#scrape_n_save(youtube,kw_1) \n",
        "         "
      ],
      "id": "wIMzl6NUSFdM"
    },
    {
      "cell_type": "code",
      "execution_count": null,
      "metadata": {
        "id": "8Xr7ug3bSFdM"
      },
      "outputs": [],
      "source": [
        "#df1 = pd.read_csv('movimento_e_repouso.csv')"
      ],
      "id": "8Xr7ug3bSFdM"
    },
    {
      "cell_type": "markdown",
      "metadata": {
        "id": "Lqbh3wKpSFdM"
      },
      "source": [
        "# Keyword 2"
      ],
      "id": "Lqbh3wKpSFdM"
    },
    {
      "cell_type": "code",
      "execution_count": null,
      "metadata": {
        "id": "WO0BpM0YSFdN"
      },
      "outputs": [],
      "source": [
        "#kw_2 =  ['Cinematica','Movimento Uniforme fisica','Easy','movimento_uniforme.csv']\n",
        "\n",
        "#scrape_n_save(youtube,kw_2) "
      ],
      "id": "WO0BpM0YSFdN"
    },
    {
      "cell_type": "code",
      "execution_count": null,
      "metadata": {
        "id": "SWxq5jrFSFdN"
      },
      "outputs": [],
      "source": [
        "#df2 = pd.read_csv('movimento_uniforme.csv')"
      ],
      "id": "SWxq5jrFSFdN"
    },
    {
      "cell_type": "markdown",
      "metadata": {
        "id": "b0GDLd5zSFdN"
      },
      "source": [
        "# Keyword 3"
      ],
      "id": "b0GDLd5zSFdN"
    },
    {
      "cell_type": "code",
      "execution_count": null,
      "metadata": {
        "id": "36fpMK8bSFdO"
      },
      "outputs": [],
      "source": [
        "#kw_3 =  ['Cinematica','Movimento Uniformente variado fisica','Medium','mov_unif_variado.csv']\n",
        "\n",
        "#scrape_n_save(youtube,kw_3) "
      ],
      "id": "36fpMK8bSFdO"
    },
    {
      "cell_type": "code",
      "execution_count": null,
      "metadata": {
        "id": "PrZSWuMbSFdO"
      },
      "outputs": [],
      "source": [
        "#df3 = pd.read_csv('mov_unif_variado.csv')"
      ],
      "id": "PrZSWuMbSFdO"
    },
    {
      "cell_type": "markdown",
      "metadata": {
        "id": "q0PdjwESSFdO"
      },
      "source": [
        "# Keyword 4"
      ],
      "id": "q0PdjwESSFdO"
    },
    {
      "cell_type": "code",
      "execution_count": null,
      "metadata": {
        "id": "gOFXznOESFdO"
      },
      "outputs": [],
      "source": [
        "#kw_4 =  ['Cinematica','Lançamento vertical para cima fisica','Medium','lancamento_vertical.csv']\n",
        "\n",
        "#scrape_n_save(youtube,kw_4) "
      ],
      "id": "gOFXznOESFdO"
    },
    {
      "cell_type": "code",
      "execution_count": null,
      "metadata": {
        "id": "h5pw-ii4SFdO"
      },
      "outputs": [],
      "source": [
        "#df4 = pd.read_csv('lancamento_vertical.csv')"
      ],
      "id": "h5pw-ii4SFdO"
    },
    {
      "cell_type": "markdown",
      "metadata": {
        "id": "o7m5gW_7SFdP"
      },
      "source": [
        "# Keyword 5"
      ],
      "id": "o7m5gW_7SFdP"
    },
    {
      "cell_type": "code",
      "execution_count": null,
      "metadata": {
        "id": "vs-C9_cSSFdP"
      },
      "outputs": [],
      "source": [
        "#kw_5 =  ['Cinematica','Queda livre fisica','Easy','queda_livre.csv']\n",
        "\n",
        "#scrape_n_save(youtube,kw_5) "
      ],
      "id": "vs-C9_cSSFdP"
    },
    {
      "cell_type": "code",
      "execution_count": null,
      "metadata": {
        "id": "2Ny0zOBESFdP"
      },
      "outputs": [],
      "source": [
        "#df5 = pd.read_csv('queda_livre.csv')"
      ],
      "id": "2Ny0zOBESFdP"
    },
    {
      "cell_type": "markdown",
      "metadata": {
        "id": "NFhRsHvFSFdP"
      },
      "source": [
        "# Keyword 6"
      ],
      "id": "NFhRsHvFSFdP"
    },
    {
      "cell_type": "code",
      "execution_count": null,
      "metadata": {
        "id": "zeZumMqZSFdP"
      },
      "outputs": [],
      "source": [
        "#kw_6 =  ['Cinematica','Vetores Lançamento oblíquo fisica','Hard','lancamento_obliquo.csv']\n",
        "\n",
        "#scrape_n_save(youtube,kw_6) "
      ],
      "id": "zeZumMqZSFdP"
    },
    {
      "cell_type": "code",
      "execution_count": null,
      "metadata": {
        "id": "vbRslEW2SFdQ"
      },
      "outputs": [],
      "source": [
        "#df6 = pd.read_csv('lancamento_obliquo.csv')"
      ],
      "id": "vbRslEW2SFdQ"
    },
    {
      "cell_type": "markdown",
      "metadata": {
        "id": "zzo3SmvuSFdQ"
      },
      "source": [
        "# Keyword 7"
      ],
      "id": "zzo3SmvuSFdQ"
    },
    {
      "cell_type": "code",
      "execution_count": null,
      "metadata": {
        "id": "AqYc-x88SFdQ"
      },
      "outputs": [],
      "source": [
        "#kw_7 =  ['Cinematica','Lançamento horizontal fisica','Hard','lancamento_horizontal.csv']\n",
        "\n",
        "#scrape_n_save(youtube,kw_7) "
      ],
      "id": "AqYc-x88SFdQ"
    },
    {
      "cell_type": "code",
      "execution_count": null,
      "metadata": {
        "id": "0HfNDfL_SFdQ"
      },
      "outputs": [],
      "source": [
        "#df7 = pd.read_csv('lancamento_horizontal.csv')"
      ],
      "id": "0HfNDfL_SFdQ"
    },
    {
      "cell_type": "markdown",
      "metadata": {
        "id": "2OZRNkFmSFdQ"
      },
      "source": [
        "# Keyword 8"
      ],
      "id": "2OZRNkFmSFdQ"
    },
    {
      "cell_type": "code",
      "execution_count": null,
      "metadata": {
        "id": "6gycRsRhSFdQ"
      },
      "outputs": [],
      "source": [
        "#kw_8 =  ['Cinematica','cinematica vetorial fisica','Hard','cinematica_vetorial.csv']\n",
        "\n",
        "#scrape_n_save(youtube,kw_8) "
      ],
      "id": "6gycRsRhSFdQ"
    },
    {
      "cell_type": "code",
      "execution_count": null,
      "metadata": {
        "id": "DEwJdyB3SFdR"
      },
      "outputs": [],
      "source": [
        "#df8 = pd.read_csv('cinematica_vetorial.csv')"
      ],
      "id": "DEwJdyB3SFdR"
    },
    {
      "cell_type": "code",
      "execution_count": null,
      "metadata": {
        "id": "ezcrOkPGSFdR"
      },
      "outputs": [],
      "source": [
        "#df8"
      ],
      "id": "ezcrOkPGSFdR"
    },
    {
      "cell_type": "markdown",
      "metadata": {
        "id": "aAYI-vVDSFdR"
      },
      "source": [
        "# Keyword 9"
      ],
      "id": "aAYI-vVDSFdR"
    },
    {
      "cell_type": "code",
      "execution_count": null,
      "metadata": {
        "id": "cGc4YWdJSFdR"
      },
      "outputs": [],
      "source": [
        "#kw_9 =  ['Cinematica','Movimento Circular fisica','Hard','movimento_circular.csv']\n",
        "\n",
        "#scrape_n_save(youtube,kw_9) "
      ],
      "id": "cGc4YWdJSFdR"
    },
    {
      "cell_type": "code",
      "execution_count": null,
      "metadata": {
        "id": "hY913Kl7SFdR"
      },
      "outputs": [],
      "source": [
        "#df9 = pd.read_csv('movimento_circular.csv')"
      ],
      "id": "hY913Kl7SFdR"
    },
    {
      "cell_type": "markdown",
      "metadata": {
        "id": "4JlYIVj8SFdS"
      },
      "source": [
        "# Keyword 10"
      ],
      "id": "4JlYIVj8SFdS"
    },
    {
      "cell_type": "code",
      "execution_count": null,
      "metadata": {
        "id": "K3gqgCFoSFdT"
      },
      "outputs": [],
      "source": [
        "#kw_10 =  ['Cinematica','Estática de um ponto material fisica','Hard','estatica_ponto_material.csv']\n",
        "\n",
        "#scrape_n_save(youtube,kw_10) "
      ],
      "id": "K3gqgCFoSFdT"
    },
    {
      "cell_type": "code",
      "execution_count": null,
      "metadata": {
        "id": "Ozff3XcwSFdT"
      },
      "outputs": [],
      "source": [
        "#df10 = pd.read_csv('estatica_ponto_material.csv')"
      ],
      "id": "Ozff3XcwSFdT"
    },
    {
      "cell_type": "markdown",
      "metadata": {
        "id": "MyyCTwDqSFdT"
      },
      "source": [
        "# Keyword 11"
      ],
      "id": "MyyCTwDqSFdT"
    },
    {
      "cell_type": "code",
      "execution_count": null,
      "metadata": {
        "id": "dgv1naGhSFdT"
      },
      "outputs": [],
      "source": [
        "#kw_11 =  ['Cinematica','centro de massa e equilíbrio','Hard','centro_massa.csv']\n",
        "\n",
        "#scrape_n_save(youtube,kw_11) "
      ],
      "id": "dgv1naGhSFdT"
    },
    {
      "cell_type": "code",
      "execution_count": null,
      "metadata": {
        "id": "BgZX6G7_SFdT"
      },
      "outputs": [],
      "source": [
        "#df11 = pd.read_csv('centro_massa.csv')"
      ],
      "id": "BgZX6G7_SFdT"
    },
    {
      "cell_type": "markdown",
      "metadata": {
        "id": "0YY7bwTYSFdT"
      },
      "source": [
        "# Keyword 12"
      ],
      "id": "0YY7bwTYSFdT"
    },
    {
      "cell_type": "code",
      "execution_count": null,
      "metadata": {
        "id": "2txxwkIuSFdT"
      },
      "outputs": [],
      "source": [
        "#kw_12 = ['Cinematica','Estática do corpo extenso fisica','Hard','estatica_corpo_extenso.csv']\n",
        "\n",
        "#scrape_n_save(youtube,kw_12) "
      ],
      "id": "2txxwkIuSFdT"
    },
    {
      "cell_type": "code",
      "execution_count": null,
      "metadata": {
        "id": "CjxxKhuhSFdU"
      },
      "outputs": [],
      "source": [
        "#df12 = pd.read_csv('estatica_corpo_extenso.csv')"
      ],
      "id": "CjxxKhuhSFdU"
    },
    {
      "cell_type": "markdown",
      "metadata": {
        "id": "BLR22io_SFdU"
      },
      "source": [
        "# Keyword 13"
      ],
      "id": "BLR22io_SFdU"
    },
    {
      "cell_type": "code",
      "execution_count": null,
      "metadata": {
        "id": "OFyOtmxzSFdU"
      },
      "outputs": [],
      "source": [
        "#kw_13 = ['Dinamica','Leis de Newton','Medium','leis_Newton.csv']\n",
        "\n",
        "#scrape_n_save(youtube,kw_13) "
      ],
      "id": "OFyOtmxzSFdU"
    },
    {
      "cell_type": "code",
      "execution_count": null,
      "metadata": {
        "id": "N1dvuDijSFdU"
      },
      "outputs": [],
      "source": [
        "#df13 = pd.read_csv('leis_Newton.csv')"
      ],
      "id": "N1dvuDijSFdU"
    },
    {
      "cell_type": "markdown",
      "metadata": {
        "id": "pGZJMyQGSFdU"
      },
      "source": [
        "# Keyword 14"
      ],
      "id": "pGZJMyQGSFdU"
    },
    {
      "cell_type": "code",
      "execution_count": null,
      "metadata": {
        "id": "rPuSlqGWSFdU"
      },
      "outputs": [],
      "source": [
        "#kw_14 = ['Dinamica','Forças de tração normal e peso fisica','Medium','forcas_tracao_normal_peso.csv']\n",
        "\n",
        "#scrape_n_save(youtube,kw_14) "
      ],
      "id": "rPuSlqGWSFdU"
    },
    {
      "cell_type": "code",
      "execution_count": null,
      "metadata": {
        "id": "K0_6aYZ_SFdV"
      },
      "outputs": [],
      "source": [
        "#df14 = pd.read_csv('forcas_tracao_normal_peso.csv')"
      ],
      "id": "K0_6aYZ_SFdV"
    },
    {
      "cell_type": "markdown",
      "metadata": {
        "id": "5wRhnbMBSFdV"
      },
      "source": [
        "# Keyword 15"
      ],
      "id": "5wRhnbMBSFdV"
    },
    {
      "cell_type": "code",
      "execution_count": null,
      "metadata": {
        "id": "JebJvAWXSFdV"
      },
      "outputs": [],
      "source": [
        "#kw_15 = ['Dinamica','Força elástica fisica','Easy','forca_elastica.csv']\n",
        "\n",
        "#scrape_n_save(youtube,kw_15) "
      ],
      "id": "JebJvAWXSFdV"
    },
    {
      "cell_type": "code",
      "execution_count": null,
      "metadata": {
        "id": "FEoAMjWGSFdV"
      },
      "outputs": [],
      "source": [
        "#df15 = pd.read_csv('forca_elastica.csv')"
      ],
      "id": "FEoAMjWGSFdV"
    },
    {
      "cell_type": "markdown",
      "metadata": {
        "id": "_l50bZUySFdV"
      },
      "source": [
        "# Keyword 16"
      ],
      "id": "_l50bZUySFdV"
    },
    {
      "cell_type": "code",
      "execution_count": null,
      "metadata": {
        "id": "px6ib9SUSFdW"
      },
      "outputs": [],
      "source": [
        "#kw_16 = ['Dinamica','Força de atrito fisica','Easy','forca_atrito.csv']\n",
        "\n",
        "#scrape_n_save(youtube,kw_16) "
      ],
      "id": "px6ib9SUSFdW"
    },
    {
      "cell_type": "code",
      "execution_count": null,
      "metadata": {
        "id": "0Hlt2_FrSFdW"
      },
      "outputs": [],
      "source": [
        "#df16 = pd.read_csv('forca_atrito.csv')"
      ],
      "id": "0Hlt2_FrSFdW"
    },
    {
      "cell_type": "code",
      "execution_count": null,
      "metadata": {
        "id": "xHPwb9E3SFdX"
      },
      "outputs": [],
      "source": [
        "#df16"
      ],
      "id": "xHPwb9E3SFdX"
    },
    {
      "cell_type": "markdown",
      "metadata": {
        "id": "EvKVBRtGSFdX"
      },
      "source": [
        "# Keyword 17"
      ],
      "id": "EvKVBRtGSFdX"
    },
    {
      "cell_type": "code",
      "execution_count": null,
      "metadata": {
        "id": "frKhYjvSSFdX"
      },
      "outputs": [],
      "source": [
        "#kw_17 = ['Dinamica','Trabalho e energia fisica','Easy','trabalho_energia.csv']\n",
        "\n",
        "#scrape_n_save(youtube,kw_17) "
      ],
      "id": "frKhYjvSSFdX"
    },
    {
      "cell_type": "code",
      "execution_count": null,
      "metadata": {
        "id": "5SGx07MhSFdX"
      },
      "outputs": [],
      "source": [
        "#df17 = pd.read_csv('trabalho_energia.csv')"
      ],
      "id": "5SGx07MhSFdX"
    },
    {
      "cell_type": "code",
      "execution_count": null,
      "metadata": {
        "id": "cQO5eTbWSFdY"
      },
      "outputs": [],
      "source": [
        "#df17"
      ],
      "id": "cQO5eTbWSFdY"
    },
    {
      "cell_type": "markdown",
      "metadata": {
        "id": "-WcO-17TSFdY"
      },
      "source": [
        "# Keyword 18"
      ],
      "id": "-WcO-17TSFdY"
    },
    {
      "cell_type": "code",
      "execution_count": null,
      "metadata": {
        "id": "NLyYGcKbSFdY"
      },
      "outputs": [],
      "source": [
        "#kw_18 = ['Dinamica','Impulso e quantidade de movimento fisica','Medium','quantidade_movimento.csv']\n",
        "\n",
        "#scrape_n_save(youtube,kw_18) "
      ],
      "id": "NLyYGcKbSFdY"
    },
    {
      "cell_type": "code",
      "execution_count": null,
      "metadata": {
        "id": "a8ENPLseSFdj"
      },
      "outputs": [],
      "source": [
        "#df18 = pd.read_csv('quantidade_movimento.csv')"
      ],
      "id": "a8ENPLseSFdj"
    },
    {
      "cell_type": "code",
      "execution_count": null,
      "metadata": {
        "id": "3AiLFtaeSFdk"
      },
      "outputs": [],
      "source": [
        "#df18"
      ],
      "id": "3AiLFtaeSFdk"
    },
    {
      "cell_type": "markdown",
      "metadata": {
        "id": "hSq3wkbfSFdk"
      },
      "source": [
        "# Keyword 19"
      ],
      "id": "hSq3wkbfSFdk"
    },
    {
      "cell_type": "code",
      "execution_count": null,
      "metadata": {
        "id": "a881-xkKSFdk"
      },
      "outputs": [],
      "source": [
        "#kw_19 =  ['Dinamica','Lei de Kepler fisica','Hard','lei_Kepler.csv']\n",
        "\n",
        "#scrape_n_save(youtube,kw_19) "
      ],
      "id": "a881-xkKSFdk"
    },
    {
      "cell_type": "code",
      "execution_count": null,
      "metadata": {
        "id": "2Vx3LscWSFdk"
      },
      "outputs": [],
      "source": [
        "#df19 = pd.read_csv('lei_Kepler.csv')"
      ],
      "id": "2Vx3LscWSFdk"
    },
    {
      "cell_type": "code",
      "execution_count": null,
      "metadata": {
        "id": "f2WsgJGoSFdk"
      },
      "outputs": [],
      "source": [
        "#df19"
      ],
      "id": "f2WsgJGoSFdk"
    },
    {
      "cell_type": "markdown",
      "metadata": {
        "id": "CMuJxbFySFdk"
      },
      "source": [
        "# Keyword 20"
      ],
      "id": "CMuJxbFySFdk"
    },
    {
      "cell_type": "code",
      "execution_count": null,
      "metadata": {
        "id": "XKNaD1MOSFdl"
      },
      "outputs": [],
      "source": [
        "#kw_20 =  ['Dinamica','Lei de gravitação Universal fisica','Medium','gravitacao.csv']\n",
        "\n",
        "#scrape_n_save(youtube,kw_20) "
      ],
      "id": "XKNaD1MOSFdl"
    },
    {
      "cell_type": "code",
      "execution_count": null,
      "metadata": {
        "id": "kBLJiGGOSFdl"
      },
      "outputs": [],
      "source": [
        "#df20 = pd.read_csv('gravitacao.csv')"
      ],
      "id": "kBLJiGGOSFdl"
    },
    {
      "cell_type": "code",
      "execution_count": null,
      "metadata": {
        "id": "TS5JAwlySFdl"
      },
      "outputs": [],
      "source": [
        "#df20"
      ],
      "id": "TS5JAwlySFdl"
    },
    {
      "cell_type": "markdown",
      "metadata": {
        "id": "PFzwumqiSFdm"
      },
      "source": [
        "# Keyword 21"
      ],
      "id": "PFzwumqiSFdm"
    },
    {
      "cell_type": "code",
      "execution_count": null,
      "metadata": {
        "id": "VQOD_etsSFdm"
      },
      "outputs": [],
      "source": [
        "#kw_21 = ['Dinamica','Satélite em órbitas circulares fisica','Medium','orbitas_circulares.csv']\n",
        "\n",
        "#scrape_n_save(youtube,kw_21) "
      ],
      "id": "VQOD_etsSFdm"
    },
    {
      "cell_type": "code",
      "execution_count": null,
      "metadata": {
        "id": "CQfqeygCSFdm"
      },
      "outputs": [],
      "source": [
        "#df21 = pd.read_csv('orbitas_circulares.csv')"
      ],
      "id": "CQfqeygCSFdm"
    },
    {
      "cell_type": "code",
      "execution_count": null,
      "metadata": {
        "id": "erotggXZSFdn"
      },
      "outputs": [],
      "source": [
        "#df21"
      ],
      "id": "erotggXZSFdn"
    },
    {
      "cell_type": "markdown",
      "metadata": {
        "id": "d-sqSaK3SFdn"
      },
      "source": [
        "# Keyword 22"
      ],
      "id": "d-sqSaK3SFdn"
    },
    {
      "cell_type": "code",
      "execution_count": null,
      "metadata": {
        "id": "4hy_-maWSFdn"
      },
      "outputs": [],
      "source": [
        "#kw_22 = ['Dinamica','Velocidade de escape fisica','Medium','velocidade_escape.csv']\n",
        "\n",
        "#scrape_n_save(youtube,kw_22) "
      ],
      "id": "4hy_-maWSFdn"
    },
    {
      "cell_type": "code",
      "execution_count": null,
      "metadata": {
        "id": "ylpWO9ufSFdn"
      },
      "outputs": [],
      "source": [
        "#df22 = pd.read_csv('velocidade_escape.csv')"
      ],
      "id": "ylpWO9ufSFdn"
    },
    {
      "cell_type": "code",
      "execution_count": null,
      "metadata": {
        "id": "P9ahR0h2SFdn"
      },
      "outputs": [],
      "source": [
        "#df22"
      ],
      "id": "P9ahR0h2SFdn"
    },
    {
      "cell_type": "markdown",
      "metadata": {
        "id": "TmiE_mB9SFdo"
      },
      "source": [
        "# Keyword 23"
      ],
      "id": "TmiE_mB9SFdo"
    },
    {
      "cell_type": "code",
      "execution_count": null,
      "metadata": {
        "id": "Ayzul1qYSFdo"
      },
      "outputs": [],
      "source": [
        "#kw_23 = ['Dinamica','Aceleração da gravidade fisica','Medium','aceleracao_gravidade.csv']\n",
        "\n",
        "#scrape_n_save(youtube,kw_23) "
      ],
      "id": "Ayzul1qYSFdo"
    },
    {
      "cell_type": "code",
      "execution_count": null,
      "metadata": {
        "id": "NNQpq828SFdt"
      },
      "outputs": [],
      "source": [
        "#df23 = pd.read_csv('aceleracao_gravidade.csv')"
      ],
      "id": "NNQpq828SFdt"
    },
    {
      "cell_type": "code",
      "execution_count": null,
      "metadata": {
        "id": "fhGi_lTTSFdt"
      },
      "outputs": [],
      "source": [
        "#df23"
      ],
      "id": "fhGi_lTTSFdt"
    }
  ],
  "metadata": {
    "kernelspec": {
      "display_name": "Python 3",
      "language": "python",
      "name": "python3"
    },
    "language_info": {
      "codemirror_mode": {
        "name": "ipython",
        "version": 3
      },
      "file_extension": ".py",
      "mimetype": "text/x-python",
      "name": "python",
      "nbconvert_exporter": "python",
      "pygments_lexer": "ipython3",
      "version": "3.8.3"
    },
    "colab": {
      "provenance": [],
      "include_colab_link": true
    }
  },
  "nbformat": 4,
  "nbformat_minor": 5
}